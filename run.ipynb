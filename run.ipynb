{
 "cells": [
  {
   "cell_type": "code",
   "execution_count": 1,
   "id": "48915526-e0f4-4235-9fe2-2ba688d85650",
   "metadata": {
    "execution": {
     "iopub.execute_input": "2023-08-16T08:53:20.780462Z",
     "iopub.status.busy": "2023-08-16T08:53:20.780317Z",
     "iopub.status.idle": "2023-08-16T08:53:29.541583Z",
     "shell.execute_reply": "2023-08-16T08:53:29.540793Z",
     "shell.execute_reply.started": "2023-08-16T08:53:20.780448Z"
    },
    "tags": []
   },
   "outputs": [
    {
     "name": "stderr",
     "output_type": "stream",
     "text": [
      "2023-08-16 16:53:22,099 - modelscope - INFO - PyTorch version 2.0.1+cu117 Found.\n",
      "2023-08-16 16:53:22,102 - modelscope - INFO - Loading ast index from /mnt/workspace/.cache/modelscope/ast_indexer\n",
      "2023-08-16 16:53:22,134 - modelscope - INFO - Loading done! Current index file version is 1.8.1, with md5 2c26b8f616d95476e0bf242e6c0cabb6 and a total number of 893 components indexed\n",
      "2023-08-16 16:53:22,470 - modelscope - INFO - No subset_name specified, defaulting to the default\n",
      "Overall progress:   0%|          | 0/11588 [00:00<?, ?it/s]2023-08-16 16:53:29,074 - modelscope - INFO - Reusing cached meta-data file: /root/.cache/modelscope/hub/datasets/modelscope/chatglm_llm_fintech_raw_dataset/master/meta/732dc4f3b18fc52380371636931af4c8\n",
      "Overall progress:   0%|          | 0/11588 [00:00<?, ?it/s]\n"
     ]
    },
    {
     "name": "stdout",
     "output_type": "stream",
     "text": [
      "{'name': ['2020-03-24__北京鼎汉技术集团股份有限公司__300011__鼎汉技术__2019年__年度报告.pdf'], 'pdf:FILE': ['/root/.cache/modelscope/hub/datasets/modelscope/chatglm_llm_fintech_raw_dataset/master/data_files/430da7c46fb80d4d095a57b4fb223258ffa1afe8bf53d0484e3f2650f5904b5c']}\n"
     ]
    },
    {
     "ename": "TypeError",
     "evalue": "unhashable type: 'PageObject'",
     "output_type": "error",
     "traceback": [
      "\u001b[0;31m---------------------------------------------------------------------------\u001b[0m",
      "\u001b[0;31mTypeError\u001b[0m                                 Traceback (most recent call last)",
      "Cell \u001b[0;32mIn[1], line 10\u001b[0m\n\u001b[1;32m      8\u001b[0m     \u001b[38;5;28;01mbreak\u001b[39;00m\n\u001b[1;32m      9\u001b[0m path \u001b[38;5;241m=\u001b[39m item[\u001b[38;5;124m'\u001b[39m\u001b[38;5;124mpdf:FILE\u001b[39m\u001b[38;5;124m'\u001b[39m]\n\u001b[0;32m---> 10\u001b[0m s \u001b[38;5;241m=\u001b[39m \u001b[43mpdf2Json\u001b[49m\u001b[38;5;241;43m.\u001b[39;49m\u001b[43mpdf2Json\u001b[49m\u001b[43m(\u001b[49m\u001b[43mpath\u001b[49m\u001b[43m[\u001b[49m\u001b[38;5;241;43m0\u001b[39;49m\u001b[43m]\u001b[49m\u001b[43m)\u001b[49m\u001b[38;5;241m.\u001b[39mencode(\u001b[38;5;124m'\u001b[39m\u001b[38;5;124mutf-8\u001b[39m\u001b[38;5;124m'\u001b[39m)\u001b[38;5;241m.\u001b[39mdecode(\u001b[38;5;124m'\u001b[39m\u001b[38;5;124municode_escape\u001b[39m\u001b[38;5;124m'\u001b[39m)\n\u001b[1;32m     11\u001b[0m \u001b[38;5;28mprint\u001b[39m(s)\n",
      "File \u001b[0;32m/mnt/workspace/cramForSMP2023ChatGLM/dataTools/pdf2Json.py:16\u001b[0m, in \u001b[0;36mpdf2Json\u001b[0;34m(filename)\u001b[0m\n\u001b[1;32m     14\u001b[0m     page \u001b[38;5;241m=\u001b[39m reader\u001b[38;5;241m.\u001b[39mpages[num]\n\u001b[1;32m     15\u001b[0m     text \u001b[38;5;241m=\u001b[39m page\u001b[38;5;241m.\u001b[39mextract_text()\n\u001b[0;32m---> 16\u001b[0m     \u001b[43moutputJson\u001b[49m\u001b[43m[\u001b[49m\u001b[43mpage\u001b[49m\u001b[43m]\u001b[49m\u001b[38;5;241m=\u001b[39mtext\n\u001b[1;32m     17\u001b[0m \u001b[38;5;28;01mreturn\u001b[39;00m outputJson\n",
      "\u001b[0;31mTypeError\u001b[0m: unhashable type: 'PageObject'"
     ]
    }
   ],
   "source": [
    "from dataTools import pdf2Json\n",
    "\n",
    "from modelscope.msdatasets import MsDataset\n",
    "ds = MsDataset.load('chatglm_llm_fintech_raw_dataset', split='train', use_streaming=True, stream_batch_size=1)\n",
    "\n",
    "for item in ds:\n",
    "    print(item)\n",
    "    break\n",
    "path = item['pdf:FILE']\n",
    "s = pdf2Json.pdf2Json(path[0]).encode('utf-8').decode('unicode_escape')\n",
    "print(s)"
   ]
  },
  {
   "cell_type": "code",
   "execution_count": null,
   "id": "54f4e783-aabc-4461-b5b8-49d15eb4e9b2",
   "metadata": {},
   "outputs": [],
   "source": []
  }
 ],
 "metadata": {
  "kernelspec": {
   "display_name": "Python 3 (ipykernel)",
   "language": "python",
   "name": "python3"
  },
  "language_info": {
   "codemirror_mode": {
    "name": "ipython",
    "version": 3
   },
   "file_extension": ".py",
   "mimetype": "text/x-python",
   "name": "python",
   "nbconvert_exporter": "python",
   "pygments_lexer": "ipython3",
   "version": "3.8.16"
  }
 },
 "nbformat": 4,
 "nbformat_minor": 5
}
