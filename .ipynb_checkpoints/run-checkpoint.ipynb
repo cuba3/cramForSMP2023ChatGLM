{
 "cells": [
  {
   "cell_type": "code",
   "execution_count": 1,
   "id": "48915526-e0f4-4235-9fe2-2ba688d85650",
   "metadata": {
    "execution": {
     "iopub.execute_input": "2023-08-16T08:39:42.210906Z",
     "iopub.status.busy": "2023-08-16T08:39:42.210588Z",
     "iopub.status.idle": "2023-08-16T08:39:42.356313Z",
     "shell.execute_reply": "2023-08-16T08:39:42.355565Z",
     "shell.execute_reply.started": "2023-08-16T08:39:42.210887Z"
    },
    "tags": []
   },
   "outputs": [
    {
     "ename": "ModuleNotFoundError",
     "evalue": "No module named 'pdfminer'",
     "output_type": "error",
     "traceback": [
      "\u001b[0;31m---------------------------------------------------------------------------\u001b[0m",
      "\u001b[0;31mModuleNotFoundError\u001b[0m                       Traceback (most recent call last)",
      "Cell \u001b[0;32mIn[1], line 1\u001b[0m\n\u001b[0;32m----> 1\u001b[0m \u001b[38;5;28;01mfrom\u001b[39;00m \u001b[38;5;21;01mdataTools\u001b[39;00m \u001b[38;5;28;01mimport\u001b[39;00m pdf2Json\n\u001b[1;32m      3\u001b[0m \u001b[38;5;28;01mfrom\u001b[39;00m \u001b[38;5;21;01mmodelscope\u001b[39;00m\u001b[38;5;21;01m.\u001b[39;00m\u001b[38;5;21;01mmsdatasets\u001b[39;00m \u001b[38;5;28;01mimport\u001b[39;00m MsDataset\n\u001b[1;32m      4\u001b[0m ds \u001b[38;5;241m=\u001b[39m MsDataset\u001b[38;5;241m.\u001b[39mload(\u001b[38;5;124m'\u001b[39m\u001b[38;5;124mchatglm_llm_fintech_raw_dataset\u001b[39m\u001b[38;5;124m'\u001b[39m, split\u001b[38;5;241m=\u001b[39m\u001b[38;5;124m'\u001b[39m\u001b[38;5;124mtrain\u001b[39m\u001b[38;5;124m'\u001b[39m, use_streaming\u001b[38;5;241m=\u001b[39m\u001b[38;5;28;01mTrue\u001b[39;00m, stream_batch_size\u001b[38;5;241m=\u001b[39m\u001b[38;5;241m1\u001b[39m)\n",
      "File \u001b[0;32m/mnt/workspace/cramForSMP2023ChatGLM/dataTools/pdf2Json.py:7\u001b[0m\n\u001b[1;32m      1\u001b[0m \u001b[38;5;66;03m# -*- coding: utf-8 -*-\u001b[39;00m\n\u001b[1;32m      2\u001b[0m \u001b[38;5;66;03m# @Time : 2023/8/16 11:55\u001b[39;00m\n\u001b[1;32m      3\u001b[0m \u001b[38;5;66;03m# @Author : luke\u001b[39;00m\n\u001b[1;32m      4\u001b[0m \u001b[38;5;66;03m# @Email : cuba3@163.com\u001b[39;00m\n\u001b[1;32m      5\u001b[0m \u001b[38;5;66;03m# @File : pdf2Json.py\u001b[39;00m\n\u001b[1;32m      6\u001b[0m \u001b[38;5;66;03m# @Project : cramForSMP2023ChatGLM\u001b[39;00m\n\u001b[0;32m----> 7\u001b[0m \u001b[38;5;28;01mimport\u001b[39;00m \u001b[38;5;21;01mpdfminer\u001b[39;00m\n\u001b[1;32m      8\u001b[0m \u001b[38;5;28;01mimport\u001b[39;00m \u001b[38;5;21;01mpdfminer\u001b[39;00m\u001b[38;5;21;01m.\u001b[39;00m\u001b[38;5;21;01mhigh_level\u001b[39;00m\n\u001b[1;32m      9\u001b[0m \u001b[38;5;28;01mimport\u001b[39;00m \u001b[38;5;21;01mjson\u001b[39;00m\n",
      "\u001b[0;31mModuleNotFoundError\u001b[0m: No module named 'pdfminer'"
     ]
    }
   ],
   "source": [
    "from dataTools import pdf2Json\n",
    "\n",
    "from modelscope.msdatasets import MsDataset\n",
    "ds = MsDataset.load('chatglm_llm_fintech_raw_dataset', split='train', use_streaming=True, stream_batch_size=1)\n",
    "\n",
    "for item in ds:\n",
    "    print(item)\n",
    "    break\n",
    "path = item['pdf:FILE']\n",
    "s = pdf2Json.pdf2Json(path[0]).encode('utf-8').decode('unicode_escape')\n",
    "print(s)"
   ]
  }
 ],
 "metadata": {
  "kernelspec": {
   "display_name": "Python 3 (ipykernel)",
   "language": "python",
   "name": "python3"
  },
  "language_info": {
   "codemirror_mode": {
    "name": "ipython",
    "version": 3
   },
   "file_extension": ".py",
   "mimetype": "text/x-python",
   "name": "python",
   "nbconvert_exporter": "python",
   "pygments_lexer": "ipython3",
   "version": "3.8.16"
  }
 },
 "nbformat": 4,
 "nbformat_minor": 5
}
